{
 "cells": [
  {
   "cell_type": "code",
   "execution_count": 1,
   "metadata": {
    "collapsed": true
   },
   "outputs": [],
   "source": [
    "import pandas as pd"
   ]
  },
  {
   "cell_type": "code",
   "execution_count": 19,
   "metadata": {
    "collapsed": true
   },
   "outputs": [],
   "source": [
    "def get_percentage_missing(series):\n",
    "   ''' Calculates percentage of NaN values in DataFrame\n",
    "   :param series: Pandas DataFrame object\n",
    "   :return: float\n",
    "   '''\n",
    "   num = series.isnull().sum()\n",
    "   den = len(series)\n",
    "   return round(num/den, 7)"
   ]
  },
  {
   "cell_type": "code",
   "execution_count": null,
   "metadata": {
    "collapsed": true
   },
   "outputs": [],
   "source": []
  },
  {
   "cell_type": "code",
   "execution_count": 14,
   "metadata": {},
   "outputs": [
    {
     "name": "stderr",
     "output_type": "stream",
     "text": [
      "/home/g49/anaconda3/lib/python3.6/site-packages/IPython/core/interactiveshell.py:2698: DtypeWarning: Columns (28,39) have mixed types. Specify dtype option on import or set low_memory=False.\n",
      "  interactivity=interactivity, compiler=compiler, result=result)\n"
     ]
    }
   ],
   "source": [
    "arc = pd.read_csv('arc_full_survey/survey_place.csv')\n",
    "# cali = pd.read_csv('caltrans_full_survey/survey_place.csv')\n",
    "# metc = pd.read_csv('metc_full_survey/survey_place.csv')\n",
    "# mrcog = pd.read_csv('mrcog_full_survey/survey_place.csv')\n",
    "# scag = pd.read_csv('scag_full_survey/survey_place.csv')"
   ]
  },
  {
   "cell_type": "code",
   "execution_count": 15,
   "metadata": {},
   "outputs": [],
   "source": [
    "arc.drop(['sampno', 'perno', 'vehno', 'plano', 'place_name', 'tripno',\n",
    "       'parked_loc_type', 'taz', 'lon',\n",
    "       'lat', 'trip_purpose', 'trip_purpose_other',\n",
    "       'trip_purpose_sec', 'trip_purpose_sec_other', \n",
    "       'hh_members', 'trip_duration_min',\n",
    "       'non_hh_members', 'mode_other', 'transit_access_mode',\n",
    "       'transit_access_mode_other', 'transit_egress', 'transit_egress_other',\n",
    "       'hov_lane', 'toll_use', 'parked_desc', 'parked_desc_other',\n",
    "       'parked_payed', 'parked_amount_pay', 'parked_paymet_unit',\n",
    "       'get_out_vehicle', 'route', 'transit_service', 'transit_service_other',\n",
    "       'fare_type', 'fare_other', 'fare_cash', 'destination_place_name',\n",
    "       'destination_taz', 'destination_lon', 'destination_lat',\n",
    "       'origin_place_name', 'origin_taz', 'origin_lon', 'origin_lat', 'per1',\n",
    "       'per2', 'per3', 'per4', 'per5', 'pwgt', 'expwgt', 'geom'], axis=1,inplace=True)\n",
    "\n",
    "arc.dropna(subset=['mode'], inplace=True)"
   ]
  },
  {
   "cell_type": "code",
   "execution_count": 16,
   "metadata": {},
   "outputs": [
    {
     "data": {
      "text/html": [
       "<div>\n",
       "<style>\n",
       "    .dataframe thead tr:only-child th {\n",
       "        text-align: right;\n",
       "    }\n",
       "\n",
       "    .dataframe thead th {\n",
       "        text-align: left;\n",
       "    }\n",
       "\n",
       "    .dataframe tbody tr th {\n",
       "        vertical-align: top;\n",
       "    }\n",
       "</style>\n",
       "<table border=\"1\" class=\"dataframe\">\n",
       "  <thead>\n",
       "    <tr style=\"text-align: right;\">\n",
       "      <th></th>\n",
       "      <th>travel_date</th>\n",
       "      <th>arr_time</th>\n",
       "      <th>dep_time</th>\n",
       "      <th>act_dur</th>\n",
       "      <th>persons_count</th>\n",
       "      <th>trip_distance_miles</th>\n",
       "      <th>mode</th>\n",
       "    </tr>\n",
       "  </thead>\n",
       "  <tbody>\n",
       "    <tr>\n",
       "      <th>8</th>\n",
       "      <td>2011-05-05</td>\n",
       "      <td>13:15:00</td>\n",
       "      <td>16:30:00</td>\n",
       "      <td>195</td>\n",
       "      <td>1.0</td>\n",
       "      <td>0.384273</td>\n",
       "      <td>3.0</td>\n",
       "    </tr>\n",
       "    <tr>\n",
       "      <th>35</th>\n",
       "      <td>2011-04-15</td>\n",
       "      <td>18:10:00</td>\n",
       "      <td>19:00:00</td>\n",
       "      <td>50</td>\n",
       "      <td>1.0</td>\n",
       "      <td>1.674506</td>\n",
       "      <td>3.0</td>\n",
       "    </tr>\n",
       "    <tr>\n",
       "      <th>51</th>\n",
       "      <td>2011-04-19</td>\n",
       "      <td>16:45:00</td>\n",
       "      <td>21:00:00</td>\n",
       "      <td>255</td>\n",
       "      <td>1.0</td>\n",
       "      <td>3.057102</td>\n",
       "      <td>3.0</td>\n",
       "    </tr>\n",
       "    <tr>\n",
       "      <th>67</th>\n",
       "      <td>2011-05-19</td>\n",
       "      <td>16:30:00</td>\n",
       "      <td>02:59:00</td>\n",
       "      <td>629</td>\n",
       "      <td>1.0</td>\n",
       "      <td>9.161827</td>\n",
       "      <td>3.0</td>\n",
       "    </tr>\n",
       "    <tr>\n",
       "      <th>83</th>\n",
       "      <td>2011-03-14</td>\n",
       "      <td>15:03:00</td>\n",
       "      <td>02:59:00</td>\n",
       "      <td>716</td>\n",
       "      <td>1.0</td>\n",
       "      <td>0.093775</td>\n",
       "      <td>1.0</td>\n",
       "    </tr>\n",
       "  </tbody>\n",
       "</table>\n",
       "</div>"
      ],
      "text/plain": [
       "   travel_date  arr_time  dep_time  act_dur  persons_count  \\\n",
       "8   2011-05-05  13:15:00  16:30:00      195            1.0   \n",
       "35  2011-04-15  18:10:00  19:00:00       50            1.0   \n",
       "51  2011-04-19  16:45:00  21:00:00      255            1.0   \n",
       "67  2011-05-19  16:30:00  02:59:00      629            1.0   \n",
       "83  2011-03-14  15:03:00  02:59:00      716            1.0   \n",
       "\n",
       "    trip_distance_miles  mode  \n",
       "8              0.384273   3.0  \n",
       "35             1.674506   3.0  \n",
       "51             3.057102   3.0  \n",
       "67             9.161827   3.0  \n",
       "83             0.093775   1.0  "
      ]
     },
     "execution_count": 16,
     "metadata": {},
     "output_type": "execute_result"
    }
   ],
   "source": [
    "arc.head()"
   ]
  },
  {
   "cell_type": "code",
   "execution_count": 17,
   "metadata": {
    "collapsed": true
   },
   "outputs": [],
   "source": []
  },
  {
   "cell_type": "code",
   "execution_count": 18,
   "metadata": {},
   "outputs": [
    {
     "data": {
      "text/plain": [
       "travel_date            0.0\n",
       "arr_time               0.0\n",
       "dep_time               0.0\n",
       "act_dur                0.0\n",
       "persons_count          0.0\n",
       "trip_distance_miles    0.0\n",
       "mode                   0.0\n",
       "dtype: float64"
      ]
     },
     "execution_count": 18,
     "metadata": {},
     "output_type": "execute_result"
    }
   ],
   "source": [
    "get_percentage_missing(arc)"
   ]
  },
  {
   "cell_type": "code",
   "execution_count": 13,
   "metadata": {
    "collapsed": true
   },
   "outputs": [],
   "source": []
  },
  {
   "cell_type": "code",
   "execution_count": null,
   "metadata": {
    "collapsed": true
   },
   "outputs": [],
   "source": []
  },
  {
   "cell_type": "code",
   "execution_count": null,
   "metadata": {
    "collapsed": true
   },
   "outputs": [],
   "source": []
  },
  {
   "cell_type": "code",
   "execution_count": null,
   "metadata": {
    "collapsed": true
   },
   "outputs": [],
   "source": [
    "cali[['arr_time', 'dep_time', 'trip_distance_miles', 'air_trip_distance_miles', 'prev_trip_duration_min', 'act_dur', 'act_cnt', 'tract_id', 'county_id', 'state_id']]\n"
   ]
  },
  {
   "cell_type": "code",
   "execution_count": null,
   "metadata": {
    "collapsed": true
   },
   "outputs": [],
   "source": []
  },
  {
   "cell_type": "code",
   "execution_count": null,
   "metadata": {
    "collapsed": true
   },
   "outputs": [],
   "source": []
  },
  {
   "cell_type": "code",
   "execution_count": null,
   "metadata": {
    "collapsed": true
   },
   "outputs": [],
   "source": []
  },
  {
   "cell_type": "code",
   "execution_count": null,
   "metadata": {
    "collapsed": true
   },
   "outputs": [],
   "source": []
  },
  {
   "cell_type": "code",
   "execution_count": null,
   "metadata": {
    "collapsed": true
   },
   "outputs": [],
   "source": []
  },
  {
   "cell_type": "code",
   "execution_count": null,
   "metadata": {
    "collapsed": true
   },
   "outputs": [],
   "source": []
  },
  {
   "cell_type": "code",
   "execution_count": 3,
   "metadata": {
    "collapsed": true
   },
   "outputs": [],
   "source": [
    "df = pd.concat([arc, cali, metc, mrcog, scag])"
   ]
  },
  {
   "cell_type": "code",
   "execution_count": 4,
   "metadata": {},
   "outputs": [
    {
     "data": {
      "text/html": [
       "<div>\n",
       "<style>\n",
       "    .dataframe thead tr:only-child th {\n",
       "        text-align: right;\n",
       "    }\n",
       "\n",
       "    .dataframe thead th {\n",
       "        text-align: left;\n",
       "    }\n",
       "\n",
       "    .dataframe tbody tr th {\n",
       "        vertical-align: top;\n",
       "    }\n",
       "</style>\n",
       "<table border=\"1\" class=\"dataframe\">\n",
       "  <thead>\n",
       "    <tr style=\"text-align: right;\">\n",
       "      <th></th>\n",
       "      <th>access</th>\n",
       "      <th>act_cnt</th>\n",
       "      <th>act_dur</th>\n",
       "      <th>act_primegress</th>\n",
       "      <th>actdur</th>\n",
       "      <th>address</th>\n",
       "      <th>age_bin</th>\n",
       "      <th>air_trip_distance_miles</th>\n",
       "      <th>alght</th>\n",
       "      <th>arr_hr</th>\n",
       "      <th>...</th>\n",
       "      <th>trvveh</th>\n",
       "      <th>usepass</th>\n",
       "      <th>vehavail</th>\n",
       "      <th>vehno</th>\n",
       "      <th>wave</th>\n",
       "      <th>wbother</th>\n",
       "      <th>wlkbkdis</th>\n",
       "      <th>worker</th>\n",
       "      <th>wtaz</th>\n",
       "      <th>zipcode</th>\n",
       "    </tr>\n",
       "  </thead>\n",
       "  <tbody>\n",
       "    <tr>\n",
       "      <th>0</th>\n",
       "      <td>NaN</td>\n",
       "      <td>NaN</td>\n",
       "      <td>565.0</td>\n",
       "      <td>NaN</td>\n",
       "      <td>NaN</td>\n",
       "      <td>NaN</td>\n",
       "      <td>NaN</td>\n",
       "      <td>NaN</td>\n",
       "      <td>NaN</td>\n",
       "      <td>NaN</td>\n",
       "      <td>...</td>\n",
       "      <td>NaN</td>\n",
       "      <td>NaN</td>\n",
       "      <td>NaN</td>\n",
       "      <td>NaN</td>\n",
       "      <td>NaN</td>\n",
       "      <td>NaN</td>\n",
       "      <td>NaN</td>\n",
       "      <td>NaN</td>\n",
       "      <td>NaN</td>\n",
       "      <td>NaN</td>\n",
       "    </tr>\n",
       "    <tr>\n",
       "      <th>1</th>\n",
       "      <td>NaN</td>\n",
       "      <td>NaN</td>\n",
       "      <td>270.0</td>\n",
       "      <td>NaN</td>\n",
       "      <td>NaN</td>\n",
       "      <td>NaN</td>\n",
       "      <td>NaN</td>\n",
       "      <td>NaN</td>\n",
       "      <td>NaN</td>\n",
       "      <td>NaN</td>\n",
       "      <td>...</td>\n",
       "      <td>NaN</td>\n",
       "      <td>NaN</td>\n",
       "      <td>NaN</td>\n",
       "      <td>NaN</td>\n",
       "      <td>NaN</td>\n",
       "      <td>NaN</td>\n",
       "      <td>NaN</td>\n",
       "      <td>NaN</td>\n",
       "      <td>NaN</td>\n",
       "      <td>NaN</td>\n",
       "    </tr>\n",
       "    <tr>\n",
       "      <th>2</th>\n",
       "      <td>NaN</td>\n",
       "      <td>NaN</td>\n",
       "      <td>572.0</td>\n",
       "      <td>NaN</td>\n",
       "      <td>NaN</td>\n",
       "      <td>NaN</td>\n",
       "      <td>NaN</td>\n",
       "      <td>NaN</td>\n",
       "      <td>NaN</td>\n",
       "      <td>NaN</td>\n",
       "      <td>...</td>\n",
       "      <td>NaN</td>\n",
       "      <td>NaN</td>\n",
       "      <td>NaN</td>\n",
       "      <td>NaN</td>\n",
       "      <td>NaN</td>\n",
       "      <td>NaN</td>\n",
       "      <td>NaN</td>\n",
       "      <td>NaN</td>\n",
       "      <td>NaN</td>\n",
       "      <td>NaN</td>\n",
       "    </tr>\n",
       "    <tr>\n",
       "      <th>3</th>\n",
       "      <td>NaN</td>\n",
       "      <td>NaN</td>\n",
       "      <td>230.0</td>\n",
       "      <td>NaN</td>\n",
       "      <td>NaN</td>\n",
       "      <td>NaN</td>\n",
       "      <td>NaN</td>\n",
       "      <td>NaN</td>\n",
       "      <td>NaN</td>\n",
       "      <td>NaN</td>\n",
       "      <td>...</td>\n",
       "      <td>NaN</td>\n",
       "      <td>NaN</td>\n",
       "      <td>NaN</td>\n",
       "      <td>NaN</td>\n",
       "      <td>NaN</td>\n",
       "      <td>NaN</td>\n",
       "      <td>NaN</td>\n",
       "      <td>NaN</td>\n",
       "      <td>NaN</td>\n",
       "      <td>NaN</td>\n",
       "    </tr>\n",
       "    <tr>\n",
       "      <th>4</th>\n",
       "      <td>NaN</td>\n",
       "      <td>NaN</td>\n",
       "      <td>315.0</td>\n",
       "      <td>NaN</td>\n",
       "      <td>NaN</td>\n",
       "      <td>NaN</td>\n",
       "      <td>NaN</td>\n",
       "      <td>NaN</td>\n",
       "      <td>NaN</td>\n",
       "      <td>NaN</td>\n",
       "      <td>...</td>\n",
       "      <td>NaN</td>\n",
       "      <td>NaN</td>\n",
       "      <td>NaN</td>\n",
       "      <td>NaN</td>\n",
       "      <td>NaN</td>\n",
       "      <td>NaN</td>\n",
       "      <td>NaN</td>\n",
       "      <td>NaN</td>\n",
       "      <td>NaN</td>\n",
       "      <td>NaN</td>\n",
       "    </tr>\n",
       "  </tbody>\n",
       "</table>\n",
       "<p>5 rows × 272 columns</p>\n",
       "</div>"
      ],
      "text/plain": [
       "   access  act_cnt  act_dur  act_primegress  actdur address  age_bin  \\\n",
       "0     NaN      NaN    565.0             NaN     NaN     NaN      NaN   \n",
       "1     NaN      NaN    270.0             NaN     NaN     NaN      NaN   \n",
       "2     NaN      NaN    572.0             NaN     NaN     NaN      NaN   \n",
       "3     NaN      NaN    230.0             NaN     NaN     NaN      NaN   \n",
       "4     NaN      NaN    315.0             NaN     NaN     NaN      NaN   \n",
       "\n",
       "   air_trip_distance_miles alght  arr_hr   ...     trvveh usepass  vehavail  \\\n",
       "0                      NaN   NaN     NaN   ...        NaN     NaN       NaN   \n",
       "1                      NaN   NaN     NaN   ...        NaN     NaN       NaN   \n",
       "2                      NaN   NaN     NaN   ...        NaN     NaN       NaN   \n",
       "3                      NaN   NaN     NaN   ...        NaN     NaN       NaN   \n",
       "4                      NaN   NaN     NaN   ...        NaN     NaN       NaN   \n",
       "\n",
       "   vehno  wave wbother wlkbkdis worker  wtaz  zipcode  \n",
       "0    NaN   NaN     NaN      NaN    NaN   NaN      NaN  \n",
       "1    NaN   NaN     NaN      NaN    NaN   NaN      NaN  \n",
       "2    NaN   NaN     NaN      NaN    NaN   NaN      NaN  \n",
       "3    NaN   NaN     NaN      NaN    NaN   NaN      NaN  \n",
       "4    NaN   NaN     NaN      NaN    NaN   NaN      NaN  \n",
       "\n",
       "[5 rows x 272 columns]"
      ]
     },
     "execution_count": 4,
     "metadata": {},
     "output_type": "execute_result"
    }
   ],
   "source": [
    "df.drop(['access', 'studytype', 'recruitmode', 'retrievemode', 'sampno', 'perno', 'hhpersonid', 'hhcomp', 'tripno', ''], inplace=True)"
   ]
  },
  {
   "cell_type": "code",
   "execution_count": null,
   "metadata": {
    "collapsed": true
   },
   "outputs": [],
   "source": []
  }
 ],
 "metadata": {
  "kernelspec": {
   "display_name": "Python 3",
   "language": "python",
   "name": "python3"
  },
  "language_info": {
   "codemirror_mode": {
    "name": "ipython",
    "version": 3
   },
   "file_extension": ".py",
   "mimetype": "text/x-python",
   "name": "python",
   "nbconvert_exporter": "python",
   "pygments_lexer": "ipython3",
   "version": "3.6.2"
  }
 },
 "nbformat": 4,
 "nbformat_minor": 2
}
